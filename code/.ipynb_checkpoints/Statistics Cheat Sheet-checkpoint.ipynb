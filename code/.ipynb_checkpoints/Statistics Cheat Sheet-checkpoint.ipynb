{
 "cells": [
  {
   "cell_type": "markdown",
   "id": "d94001d0",
   "metadata": {},
   "source": [
    "# Model Fitting\n",
    "## LM"
   ]
  },
  {
   "cell_type": "markdown",
   "id": "dd734e18",
   "metadata": {},
   "source": [
    "## Fitting a GLM\n",
    "- Normal Distribution/Continuous data= LM\n",
    "- Count data = Poisson\n",
    "- Binary data = binomial"
   ]
  },
  {
   "cell_type": "code",
   "execution_count": null,
   "id": "24771ae5",
   "metadata": {},
   "outputs": [],
   "source": [
    "mites <- read.csv(\"~/Downloads/bee_mites.csv\", stringsAsFactors=TRUE)\n",
    "# 1. Fit model according to chosen distribution\n",
    "glm_m <- glm(Dead_mites~Concentration, data=mites, family=\"poisson\")"
   ]
  }
 ],
 "metadata": {
  "kernelspec": {
   "display_name": "R",
   "language": "R",
   "name": "ir"
  },
  "language_info": {
   "codemirror_mode": "r",
   "file_extension": ".r",
   "mimetype": "text/x-r-source",
   "name": "R",
   "pygments_lexer": "r",
   "version": "4.1.2"
  }
 },
 "nbformat": 4,
 "nbformat_minor": 5
}
